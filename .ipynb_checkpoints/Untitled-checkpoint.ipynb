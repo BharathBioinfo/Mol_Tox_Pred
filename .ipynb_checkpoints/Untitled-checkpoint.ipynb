{
 "cells": [
  {
   "cell_type": "code",
   "execution_count": 20,
   "metadata": {},
   "outputs": [],
   "source": [
    "import tensorflow as tf\n",
    "import matplotlib.pyplot as plt"
   ]
  },
  {
   "cell_type": "code",
   "execution_count": 2,
   "metadata": {},
   "outputs": [],
   "source": [
    "from tensorflow import keras"
   ]
  },
  {
   "cell_type": "code",
   "execution_count": 3,
   "metadata": {},
   "outputs": [],
   "source": [
    "import numpy as np"
   ]
  },
  {
   "cell_type": "code",
   "execution_count": 25,
   "metadata": {},
   "outputs": [],
   "source": [
    "dataset = np.genfromtxt('NR-ER-train/names_labels.csv', delimiter = ',', usecols = (1))\n",
    "dataset = dataset.tolist()\n",
    "dataset_test = np.genfromtxt('NR-ER-test/names_labels.csv', delimiter = ',', usecols = (1))"
   ]
  },
  {
   "cell_type": "code",
   "execution_count": 26,
   "metadata": {},
   "outputs": [],
   "source": [
    "Y = [1 if i == 1.0 else 0 for i in dataset ]\n",
    "Y_test = [1 if i == 1.0 else 0 for i in dataset_test ]"
   ]
  },
  {
   "cell_type": "code",
   "execution_count": 27,
   "metadata": {},
   "outputs": [],
   "source": [
    "Y = keras.utils.to_categorical(Y,num_classes=2)\n",
    "Y_test = keras.utils.to_categorical(Y_test,num_classes=2)"
   ]
  },
  {
   "cell_type": "code",
   "execution_count": 29,
   "metadata": {},
   "outputs": [],
   "source": [
    "X = np.load('NR-ER-train/names_onehots.npy') \n",
    "X = X.item()\n",
    "X = X['onehots']\n",
    "X_test = np.load('NR-ER-test/names_onehots.npy') \n",
    "X_test = X_test.item()\n",
    "X_test = X_test['onehots']"
   ]
  },
  {
   "cell_type": "code",
   "execution_count": 30,
   "metadata": {},
   "outputs": [],
   "source": [
    "X_train = X[:6000]\n",
    "Y_train = Y[:6000]\n",
    "X_val = X[6001:]\n",
    "Y_val = Y[6001:]"
   ]
  },
  {
   "cell_type": "code",
   "execution_count": 32,
   "metadata": {},
   "outputs": [
    {
     "name": "stdout",
     "output_type": "stream",
     "text": [
      "(6000, 72, 398)\n",
      "(1696, 72, 398)\n",
      "(265, 72, 398)\n",
      "(6000, 2)\n",
      "(1696, 2)\n",
      "(265, 2)\n"
     ]
    }
   ],
   "source": [
    "print(X_train.shape)\n",
    "print(X_val.shape)\n",
    "print(X_test.shape)\n",
    "print(Y_train.shape)\n",
    "print(Y_val.shape)\n",
    "print(Y_test.shape)"
   ]
  },
  {
   "cell_type": "code",
   "execution_count": 33,
   "metadata": {},
   "outputs": [],
   "source": [
    "X_train = np.reshape(X_train, [6000,72*398])\n",
    "X_val = np.reshape(X_val,[1696,72*398])\n",
    "X_test = np.reshape(X_test,[265,72*398])"
   ]
  },
  {
   "cell_type": "code",
   "execution_count": 34,
   "metadata": {},
   "outputs": [
    {
     "name": "stdout",
     "output_type": "stream",
     "text": [
      "(6000, 28656)\n",
      "(1696, 28656)\n",
      "(265, 28656)\n",
      "(6000, 2)\n",
      "(1696, 2)\n",
      "(265, 2)\n"
     ]
    }
   ],
   "source": [
    "print(X_train.shape)\n",
    "print(X_val.shape)\n",
    "print(X_test.shape)\n",
    "print(Y_train.shape)\n",
    "print(Y_val.shape)\n",
    "print(Y_test.shape)"
   ]
  },
  {
   "cell_type": "code",
   "execution_count": 52,
   "metadata": {},
   "outputs": [],
   "source": [
    "model = tf.keras.Sequential()\n",
    "model.add(keras.layers.Dense(20, input_dim = 28656, activation = 'relu'))\n",
    "model.add(keras.layers.Dense(72, activation ='relu'))\n",
    "model.add(keras.layers.Dense(36, activation ='relu'))\n",
    "model.add(keras.layers.Dense(8, activation ='relu'))\n",
    "model.add(keras.layers.Dense(72, activation ='relu'))\n",
    "model.add(keras.layers.Dense(72, activation ='relu'))\n",
    "model.add(keras.layers.Dense(72, activation ='relu'))\n",
    "model.add(keras.layers.Dense(2,activation= 'sigmoid'))"
   ]
  },
  {
   "cell_type": "code",
   "execution_count": 53,
   "metadata": {},
   "outputs": [],
   "source": [
    "model.compile(loss='categorical_crossentropy', optimizer='adam', metrics=['accuracy'])"
   ]
  },
  {
   "cell_type": "code",
   "execution_count": 54,
   "metadata": {},
   "outputs": [
    {
     "name": "stdout",
     "output_type": "stream",
     "text": [
      "_________________________________________________________________\n",
      "Layer (type)                 Output Shape              Param #   \n",
      "=================================================================\n",
      "dense_11 (Dense)             (None, 20)                573140    \n",
      "_________________________________________________________________\n",
      "dense_12 (Dense)             (None, 72)                1512      \n",
      "_________________________________________________________________\n",
      "dense_13 (Dense)             (None, 36)                2628      \n",
      "_________________________________________________________________\n",
      "dense_14 (Dense)             (None, 8)                 296       \n",
      "_________________________________________________________________\n",
      "dense_15 (Dense)             (None, 72)                648       \n",
      "_________________________________________________________________\n",
      "dense_16 (Dense)             (None, 72)                5256      \n",
      "_________________________________________________________________\n",
      "dense_17 (Dense)             (None, 72)                5256      \n",
      "_________________________________________________________________\n",
      "dense_18 (Dense)             (None, 2)                 146       \n",
      "=================================================================\n",
      "Total params: 588,882\n",
      "Trainable params: 588,882\n",
      "Non-trainable params: 0\n",
      "_________________________________________________________________\n"
     ]
    }
   ],
   "source": [
    "model.summary()"
   ]
  },
  {
   "cell_type": "code",
   "execution_count": 64,
   "metadata": {},
   "outputs": [
    {
     "name": "stdout",
     "output_type": "stream",
     "text": [
      "Train on 6000 samples, validate on 1696 samples\n",
      "Epoch 1/3\n",
      "6000/6000 [==============================] - 3s 434us/step - loss: 0.1525 - acc: 0.9488 - val_loss: 0.5152 - val_acc: 0.8827\n",
      "Epoch 2/3\n",
      "6000/6000 [==============================] - 3s 432us/step - loss: 0.1340 - acc: 0.9570 - val_loss: 0.5798 - val_acc: 0.8850\n",
      "Epoch 3/3\n",
      "6000/6000 [==============================] - 3s 434us/step - loss: 0.1246 - acc: 0.9593 - val_loss: 0.5718 - val_acc: 0.8886\n"
     ]
    }
   ],
   "source": [
    "history = model.fit(X_train, Y_train, epochs=3, batch_size=50, validation_data = (X_val,Y_val))"
   ]
  },
  {
   "cell_type": "code",
   "execution_count": 60,
   "metadata": {},
   "outputs": [
    {
     "name": "stdout",
     "output_type": "stream",
     "text": [
      "dict_keys(['val_loss', 'val_acc', 'loss', 'acc'])\n"
     ]
    }
   ],
   "source": [
    "print(history.history.keys())"
   ]
  },
  {
   "cell_type": "code",
   "execution_count": 61,
   "metadata": {},
   "outputs": [
    {
     "data": {
      "image/png": "[encoded data removed]",
      "text/plain": [
       "<Figure size 432x288 with 1 Axes>"
      ]
     },
     "metadata": {
      "needs_background": "light"
     },
     "output_type": "display_data"
    }
   ],
   "source": [
    "plt.plot(history.history['acc'])\n",
    "plt.plot(history.history['val_acc'])\n",
    "plt.title('model accuracy')\n",
    "plt.ylabel('accuracy')\n",
    "plt.xlabel('epoch')\n",
    "plt.legend(['train', 'test'], loc = 'upper left')\n",
    "plt.show()\n"
   ]
  },
  {
   "cell_type": "code",
   "execution_count": 62,
   "metadata": {},
   "outputs": [
    {
     "data": {
      "image/png": "[encoded data removed]",
      "text/plain": [
       "<Figure size 432x288 with 1 Axes>"
      ]
     },
     "metadata": {
      "needs_background": "light"
     },
     "output_type": "display_data"
    }
   ],
   "source": [
    "plt.plot(history.history['loss'])\n",
    "plt.plot(history.history['val_loss'])\n",
    "plt.title('model loss')\n",
    "plt.ylabel('loss')\n",
    "plt.xlabel('epoch')\n",
    "plt.legend(['train', 'test'], loc = 'upper left')\n",
    "plt.show()"
   ]
  },
  {
   "cell_type": "code",
   "execution_count": 65,
   "metadata": {},
   "outputs": [
    {
     "name": "stdout",
     "output_type": "stream",
     "text": [
      "265/265 [==============================] - 0s 286us/step\n"
     ]
    }
   ],
   "source": [
    "check = model.evaluate(X_test,Y_test)"
   ]
  },
  {
   "cell_type": "code",
   "execution_count": 66,
   "metadata": {},
   "outputs": [
    {
     "data": {
      "text/plain": [
       "[0.6600213698621066, 0.8566037738098289]"
      ]
     },
     "execution_count": 66,
     "metadata": {},
     "output_type": "execute_result"
    }
   ],
   "source": [
    "check"
   ]
  },
  {
   "cell_type": "code",
   "execution_count": null,
   "metadata": {},
   "outputs": [],
   "source": [
    "np.argmax([1,5])"
   ]
  }
 ],
 "metadata": {
  "kernelspec": {
   "display_name": "Python 3",
   "language": "python",
   "name": "python3"
  },
  "language_info": {
   "codemirror_mode": {
    "name": "ipython",
    "version": 3
   },
   "file_extension": ".py",
   "mimetype": "text/x-python",
   "name": "python",
   "nbconvert_exporter": "python",
   "pygments_lexer": "ipython3",
   "version": "3.6.6"
  }
 },
 "nbformat": 4,
 "nbformat_minor": 2
}
