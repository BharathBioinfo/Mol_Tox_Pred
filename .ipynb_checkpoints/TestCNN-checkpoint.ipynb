{
 "cells": [
  {
   "cell_type": "code",
   "execution_count": 17,
   "metadata": {},
   "outputs": [],
   "source": [
    "import tensorflow as tf\n",
    "import matplotlib.pyplot as plt"
   ]
  },
  {
   "cell_type": "code",
   "execution_count": 18,
   "metadata": {},
   "outputs": [],
   "source": [
    "from tensorflow import keras"
   ]
  },
  {
   "cell_type": "code",
   "execution_count": 19,
   "metadata": {},
   "outputs": [],
   "source": [
    "import numpy as np"
   ]
  },
  {
   "cell_type": "code",
   "execution_count": 20,
   "metadata": {},
   "outputs": [],
   "source": [
    "dataset = np.genfromtxt('NR-ER-train/names_labels.csv', delimiter = ',', usecols = (1))\n",
    "dataset = dataset.tolist()\n",
    "dataset_test = np.genfromtxt('NR-ER-test/names_labels.csv', delimiter = ',', usecols = (1))"
   ]
  },
  {
   "cell_type": "code",
   "execution_count": 21,
   "metadata": {},
   "outputs": [],
   "source": [
    "Y = [1 if i == 1.0 else 0 for i in dataset ]\n",
    "Y_test = [1 if i == 1.0 else 0 for i in dataset_test ]"
   ]
  },
  {
   "cell_type": "code",
   "execution_count": 22,
   "metadata": {},
   "outputs": [],
   "source": [
    "Y = keras.utils.to_categorical(Y,num_classes=2)\n",
    "Y_test = keras.utils.to_categorical(Y_test,num_classes=2)"
   ]
  },
  {
   "cell_type": "code",
   "execution_count": 23,
   "metadata": {},
   "outputs": [],
   "source": [
    "X = np.load('NR-ER-train/names_onehots.npy') \n",
    "X = X.item()\n",
    "X = X['onehots']\n",
    "X_test = np.load('NR-ER-test/names_onehots.npy') \n",
    "X_test = X_test.item()\n",
    "X_test = X_test['onehots']"
   ]
  },
  {
   "cell_type": "code",
   "execution_count": 24,
   "metadata": {},
   "outputs": [],
   "source": [
    "X_train = X[:6000]\n",
    "Y_train = Y[:6000]\n",
    "X_val = X[6001:]\n",
    "Y_val = Y[6001:]"
   ]
  },
  {
   "cell_type": "code",
   "execution_count": 25,
   "metadata": {},
   "outputs": [
    {
     "name": "stdout",
     "output_type": "stream",
     "text": [
      "(6000, 72, 398)\n",
      "(1696, 72, 398)\n",
      "(265, 72, 398)\n",
      "(6000, 2)\n",
      "(1696, 2)\n",
      "(265, 2)\n"
     ]
    }
   ],
   "source": [
    "print(X_train.shape)\n",
    "print(X_val.shape)\n",
    "print(X_test.shape)\n",
    "print(Y_train.shape)\n",
    "print(Y_val.shape)\n",
    "print(Y_test.shape)"
   ]
  },
  {
   "cell_type": "code",
   "execution_count": 26,
   "metadata": {},
   "outputs": [],
   "source": [
    "X_train = np.reshape(X_train, [6000, 1,72,398])\n",
    "X_val = np.reshape(X_val,[1696, 1, 72, 398])\n",
    "X_test = np.reshape(X_test,[265, 1, 72, 398])"
   ]
  },
  {
   "cell_type": "code",
   "execution_count": 27,
   "metadata": {},
   "outputs": [
    {
     "name": "stdout",
     "output_type": "stream",
     "text": [
      "(6000, 1, 72, 398)\n",
      "(1696, 1, 72, 398)\n",
      "(265, 1, 72, 398)\n",
      "(6000, 2)\n",
      "(1696, 2)\n",
      "(265, 2)\n"
     ]
    }
   ],
   "source": [
    "print(X_train.shape)\n",
    "print(X_val.shape)\n",
    "print(X_test.shape)\n",
    "print(Y_train.shape)\n",
    "print(Y_val.shape)\n",
    "print(Y_test.shape)"
   ]
  },
  {
   "cell_type": "code",
   "execution_count": 28,
   "metadata": {},
   "outputs": [],
   "source": [
    "input_shape=(1, 72, 398)"
   ]
  },
  {
   "cell_type": "code",
   "execution_count": 29,
   "metadata": {},
   "outputs": [],
   "source": [
    "model = tf.keras.Sequential()\n",
    "model.add(tf.keras.layers.Conv2D(32, kernel_size=(3, 3), activation='relu', input_shape=input_shape, padding = 'same'))\n",
    "model.add(tf.keras.layers.Conv2D(64, (3, 3), activation='relu', padding = 'same'))\n",
    "model.add(tf.keras.layers.MaxPooling2D(pool_size=(2, 2), padding = 'same'))\n",
    "model.add(tf.keras.layers.Dropout(0.25))\n",
    "model.add(tf.keras.layers.Flatten())\n",
    "model.add(tf.keras.layers.Dense(128, activation='relu'))\n",
    "model.add(tf.keras.layers.Dropout(0.5))\n",
    "model.add(tf.keras.layers.Dense(2, activation='softmax'))"
   ]
  },
  {
   "cell_type": "code",
   "execution_count": 30,
   "metadata": {},
   "outputs": [],
   "source": [
    "model.compile(loss='categorical_crossentropy', optimizer='adam', metrics=['accuracy'])"
   ]
  },
  {
   "cell_type": "code",
   "execution_count": 31,
   "metadata": {},
   "outputs": [
    {
     "name": "stdout",
     "output_type": "stream",
     "text": [
      "_________________________________________________________________\n",
      "Layer (type)                 Output Shape              Param #   \n",
      "=================================================================\n",
      "conv2d_2 (Conv2D)            (None, 1, 72, 32)         114656    \n",
      "_________________________________________________________________\n",
      "conv2d_3 (Conv2D)            (None, 1, 72, 64)         18496     \n",
      "_________________________________________________________________\n",
      "max_pooling2d_1 (MaxPooling2 (None, 1, 36, 64)         0         \n",
      "_________________________________________________________________\n",
      "dropout_2 (Dropout)          (None, 1, 36, 64)         0         \n",
      "_________________________________________________________________\n",
      "flatten_1 (Flatten)          (None, 2304)              0         \n",
      "_________________________________________________________________\n",
      "dense_2 (Dense)              (None, 128)               295040    \n",
      "_________________________________________________________________\n",
      "dropout_3 (Dropout)          (None, 128)               0         \n",
      "_________________________________________________________________\n",
      "dense_3 (Dense)              (None, 2)                 258       \n",
      "=================================================================\n",
      "Total params: 428,450\n",
      "Trainable params: 428,450\n",
      "Non-trainable params: 0\n",
      "_________________________________________________________________\n"
     ]
    }
   ],
   "source": [
    "model.summary()"
   ]
  },
  {
   "cell_type": "code",
   "execution_count": 32,
   "metadata": {},
   "outputs": [
    {
     "name": "stdout",
     "output_type": "stream",
     "text": [
      "Train on 6000 samples, validate on 1696 samples\n",
      "Epoch 1/10\n",
      "6000/6000 [==============================] - 11s 2ms/step - loss: 0.3823 - acc: 0.8773 - val_loss: 0.3563 - val_acc: 0.8762\n",
      "Epoch 2/10\n",
      "6000/6000 [==============================] - 11s 2ms/step - loss: 0.3390 - acc: 0.8790 - val_loss: 0.3382 - val_acc: 0.8762\n",
      "Epoch 3/10\n",
      "6000/6000 [==============================] - 12s 2ms/step - loss: 0.3048 - acc: 0.8852 - val_loss: 0.3488 - val_acc: 0.8838\n",
      "Epoch 4/10\n",
      "6000/6000 [==============================] - 11s 2ms/step - loss: 0.2690 - acc: 0.8985 - val_loss: 0.3611 - val_acc: 0.8868\n",
      "Epoch 5/10\n",
      "6000/6000 [==============================] - 11s 2ms/step - loss: 0.2350 - acc: 0.9147 - val_loss: 0.3702 - val_acc: 0.8856\n",
      "Epoch 6/10\n",
      "6000/6000 [==============================] - 11s 2ms/step - loss: 0.2058 - acc: 0.9265 - val_loss: 0.4260 - val_acc: 0.8897\n",
      "Epoch 7/10\n",
      "6000/6000 [==============================] - 11s 2ms/step - loss: 0.1751 - acc: 0.9418 - val_loss: 0.4126 - val_acc: 0.8821\n",
      "Epoch 8/10\n",
      "6000/6000 [==============================] - 11s 2ms/step - loss: 0.1572 - acc: 0.9488 - val_loss: 0.4804 - val_acc: 0.8827\n",
      "Epoch 9/10\n",
      "6000/6000 [==============================] - 10s 2ms/step - loss: 0.1411 - acc: 0.9542 - val_loss: 0.5161 - val_acc: 0.8844\n",
      "Epoch 10/10\n",
      "6000/6000 [==============================] - 11s 2ms/step - loss: 0.1309 - acc: 0.9580 - val_loss: 0.4939 - val_acc: 0.8538\n"
     ]
    }
   ],
   "source": [
    "history = model.fit(X_train, Y_train, epochs=10, batch_size=50, validation_data = (X_val,Y_val))"
   ]
  },
  {
   "cell_type": "code",
   "execution_count": 33,
   "metadata": {},
   "outputs": [
    {
     "name": "stdout",
     "output_type": "stream",
     "text": [
      "dict_keys(['val_loss', 'val_acc', 'loss', 'acc'])\n"
     ]
    }
   ],
   "source": [
    "print(history.history.keys())"
   ]
  },
  {
   "cell_type": "code",
   "execution_count": 34,
   "metadata": {},
   "outputs": [
    {
     "data": {
      "image/png": "[encoded data removed]",
      "text/plain": [
       "<Figure size 432x288 with 1 Axes>"
      ]
     },
     "metadata": {
      "needs_background": "light"
     },
     "output_type": "display_data"
    }
   ],
   "source": [
    "plt.plot(history.history['acc'])\n",
    "plt.plot(history.history['val_acc'])\n",
    "plt.title('model accuracy')\n",
    "plt.ylabel('accuracy')\n",
    "plt.xlabel('epoch')\n",
    "plt.legend(['train', 'test'], loc = 'upper left')\n",
    "plt.show()\n"
   ]
  },
  {
   "cell_type": "code",
   "execution_count": 35,
   "metadata": {},
   "outputs": [
    {
     "data": {
      "image/png": "[encoded data removed]",
      "text/plain": [
       "<Figure size 432x288 with 1 Axes>"
      ]
     },
     "metadata": {
      "needs_background": "light"
     },
     "output_type": "display_data"
    }
   ],
   "source": [
    "plt.plot(history.history['loss'])\n",
    "plt.plot(history.history['val_loss'])\n",
    "plt.title('model loss')\n",
    "plt.ylabel('loss')\n",
    "plt.xlabel('epoch')\n",
    "plt.legend(['train', 'test'], loc = 'upper left')\n",
    "plt.show()"
   ]
  },
  {
   "cell_type": "code",
   "execution_count": 36,
   "metadata": {},
   "outputs": [
    {
     "name": "stdout",
     "output_type": "stream",
     "text": [
      "265/265 [==============================] - 0s 873us/step\n"
     ]
    }
   ],
   "source": [
    "check = model.evaluate(X_test,Y_test)"
   ]
  },
  {
   "cell_type": "code",
   "execution_count": 37,
   "metadata": {},
   "outputs": [
    {
     "data": {
      "text/plain": [
       "[0.5847545712623956, 0.8075471702611672]"
      ]
     },
     "execution_count": 37,
     "metadata": {},
     "output_type": "execute_result"
    }
   ],
   "source": [
    "check"
   ]
  },
  {
   "cell_type": "code",
   "execution_count": null,
   "metadata": {},
   "outputs": [],
   "source": []
  }
 ],
 "metadata": {
  "kernelspec": {
   "display_name": "Python 3",
   "language": "python",
   "name": "python3"
  },
  "language_info": {
   "codemirror_mode": {
    "name": "ipython",
    "version": 3
   },
   "file_extension": ".py",
   "mimetype": "text/x-python",
   "name": "python",
   "nbconvert_exporter": "python",
   "pygments_lexer": "ipython3",
   "version": "3.6.6"
  }
 },
 "nbformat": 4,
 "nbformat_minor": 2
}
